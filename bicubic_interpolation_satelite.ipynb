{
 "cells": [
  {
   "cell_type": "code",
   "execution_count": 1,
   "id": "initial_id",
   "metadata": {
    "collapsed": true,
    "ExecuteTime": {
     "end_time": "2024-03-18T17:25:05.135390600Z",
     "start_time": "2024-03-18T17:25:02.336711400Z"
    }
   },
   "outputs": [],
   "source": [
    "import torch\n",
    "import numpy as np\n",
    "from scipy.interpolate import interpn\n",
    "import matplotlib.pyplot as plt\n",
    "\n",
    "from utils.DataManager import DataManager"
   ]
  },
  {
   "cell_type": "code",
   "execution_count": 2,
   "outputs": [],
   "source": [
    "data_directory = \"E:/TFG/core_dataset_sat\"\n",
    "lr_dataset_name = \"lr_dataset\"\n",
    "hr_dataset_name = \"hr_dataset/12bit\"\n",
    "datamanager = DataManager(data_directory, lr_dataset_name, hr_dataset_name)\n",
    "\n",
    "hr_data, lr_data = datamanager.get_random_data()"
   ],
   "metadata": {
    "collapsed": false,
    "ExecuteTime": {
     "end_time": "2024-03-18T17:25:06.192982700Z",
     "start_time": "2024-03-18T17:25:05.137391900Z"
    }
   },
   "id": "82dcc449dcaf77e3"
  },
  {
   "cell_type": "code",
   "execution_count": null,
   "outputs": [],
   "source": [
    "def bicubic_interpolation(image, objective_dim): # De momento lo implementare para 1 sola foto a la vez\n",
    "    #Calculo nuevas dimensiones\n",
    "    height, width = image.shape[1] , image.shape[2]\n",
    "    new_width, new_height = objective_dim[0], objective_dim[1]\n",
    "    new_image = np.zeros((new_height, new_width, image.shape[0]))\n",
    "    \n",
    "     # Generar cuadrículas para las coordenadas X e Y de la imagen original y la interpolada\n",
    "    x = np.linspace(0, width - 1, width)\n",
    "    y = np.linspace(0, height - 1, height)\n",
    "    new_x = np.linspace(0, width - 1, new_width)\n",
    "    new_y = np.linspace(0, height - 1, new_height)\n",
    "    print(\"Interpolating....\")\n",
    "    new_image = interpn((y, x), image, (new_y[:, None], new_x), method='cubic', bounds_error=False, fill_value=0)\n",
    "    print(\"--------------------\")\n",
    "    return new_image.astype(np.uint8)"
   ],
   "metadata": {
    "collapsed": false,
    "ExecuteTime": {
     "start_time": "2024-03-18T17:22:12.217280Z"
    }
   },
   "id": "d29215904111263a"
  },
  {
   "cell_type": "code",
   "execution_count": null,
   "outputs": [],
   "source": [
    "interpolated = bicubic_interpolation(lr_data[0].squeeze().numpy() , (1054, 1054))"
   ],
   "metadata": {
    "collapsed": false,
    "ExecuteTime": {
     "end_time": "2024-03-18T17:22:12.218280900Z",
     "start_time": "2024-03-18T17:22:12.217280Z"
    }
   },
   "id": "b3ca95e4d637f358"
  },
  {
   "cell_type": "code",
   "execution_count": null,
   "outputs": [],
   "source": [],
   "metadata": {
    "collapsed": false
   },
   "id": "d64fad07355283d4"
  }
 ],
 "metadata": {
  "kernelspec": {
   "display_name": "Python 3",
   "language": "python",
   "name": "python3"
  },
  "language_info": {
   "codemirror_mode": {
    "name": "ipython",
    "version": 2
   },
   "file_extension": ".py",
   "mimetype": "text/x-python",
   "name": "python",
   "nbconvert_exporter": "python",
   "pygments_lexer": "ipython2",
   "version": "2.7.6"
  }
 },
 "nbformat": 4,
 "nbformat_minor": 5
}
