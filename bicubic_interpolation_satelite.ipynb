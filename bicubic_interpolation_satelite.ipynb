{
 "cells": [
  {
   "cell_type": "code",
   "execution_count": 1,
   "id": "initial_id",
   "metadata": {
    "collapsed": true,
    "ExecuteTime": {
     "end_time": "2024-03-16T12:04:51.032449600Z",
     "start_time": "2024-03-16T12:04:48.936611800Z"
    }
   },
   "outputs": [],
   "source": [
    "import torch\n",
    "\n",
    "from utils.DataManager import DataManager"
   ]
  },
  {
   "cell_type": "code",
   "execution_count": 3,
   "outputs": [],
   "source": [
    "data_directory = \"E:/TFG/core_dataset\"\n",
    "lr_dataset_name = \"lr_dataset\"\n",
    "hr_dataset_name = \"hr_dataset/12bit\"\n",
    "datamanager = DataManager(data_directory, lr_dataset_name, hr_dataset_name)\n",
    "\n",
    "hr_data, lr_data = datamanager.get_random_data()"
   ],
   "metadata": {
    "collapsed": false,
    "ExecuteTime": {
     "end_time": "2024-03-16T12:05:09.307411200Z",
     "start_time": "2024-03-16T12:05:08.605798400Z"
    }
   },
   "id": "82dcc449dcaf77e3"
  },
  {
   "cell_type": "code",
   "execution_count": 5,
   "outputs": [
    {
     "data": {
      "text/plain": "torch.Size([10, 1, 157, 159, 3])"
     },
     "execution_count": 5,
     "metadata": {},
     "output_type": "execute_result"
    }
   ],
   "source": [
    "hr_data.shape\n",
    "lr_data.shape"
   ],
   "metadata": {
    "collapsed": false,
    "ExecuteTime": {
     "end_time": "2024-03-16T12:05:24.272739100Z",
     "start_time": "2024-03-16T12:05:24.270228600Z"
    }
   },
   "id": "d29215904111263a"
  }
 ],
 "metadata": {
  "kernelspec": {
   "display_name": "Python 3",
   "language": "python",
   "name": "python3"
  },
  "language_info": {
   "codemirror_mode": {
    "name": "ipython",
    "version": 2
   },
   "file_extension": ".py",
   "mimetype": "text/x-python",
   "name": "python",
   "nbconvert_exporter": "python",
   "pygments_lexer": "ipython2",
   "version": "2.7.6"
  }
 },
 "nbformat": 4,
 "nbformat_minor": 5
}
