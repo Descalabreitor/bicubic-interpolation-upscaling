{
 "cells": [
  {
   "cell_type": "code",
   "execution_count": 30,
   "id": "initial_id",
   "metadata": {
    "collapsed": true,
    "ExecuteTime": {
     "end_time": "2024-03-12T00:26:17.910024900Z",
     "start_time": "2024-03-12T00:26:17.904025700Z"
    }
   },
   "outputs": [],
   "source": [
    "import numpy as np\n",
    "import cv2\n",
    "from scipy.interpolate import interpn\n",
    "import matplotlib.pyplot as plt\n",
    "\n",
    "data_dir = \"E:\\TFG\\RealSR(V3)\"\n",
    "camera = \"Canon\"\n",
    "upscaling_factor = \"2\"\n",
    "mode = \"train\"\n",
    "\n",
    "images_path = data_dir + \"/\" + camera + \"/\" + mode + \"/\" + upscaling_factor + \"/\" "
   ]
  },
  {
   "cell_type": "code",
   "execution_count": 31,
   "outputs": [],
   "source": [
    "image_id = \"001\"\n",
    "Hr_image = np.array(cv2.imread(images_path +  camera+\"_\"+ image_id + \"_HR.png\"))\n",
    "Lr_image = np.array(cv2.imread(images_path + camera+\"_\" + image_id + \"_LR\" + upscaling_factor + \".png\"))"
   ],
   "metadata": {
    "collapsed": false,
    "ExecuteTime": {
     "end_time": "2024-03-12T00:26:17.940026400Z",
     "start_time": "2024-03-12T00:26:17.910024900Z"
    }
   },
   "id": "2cad27fea0138dbb"
  },
  {
   "cell_type": "code",
   "execution_count": 32,
   "outputs": [],
   "source": [
    "def bicubic_interpolation(image, factor):\n",
    "    \n",
    "    #Calculo nuevas dimensiones\n",
    "    height, width = image.shape[:2]\n",
    "    new_width, new_height = width * factor, height * factor\n",
    "    new_image = np.zeros((new_height, new_width, image.shape[2]), dtype=np.uint8)\n",
    "    \n",
    "     # Generar cuadrículas para las coordenadas X e Y de la imagen original y la interpolada\n",
    "    x = np.linspace(0, width - 1, width)\n",
    "    y = np.linspace(0, height - 1, height)\n",
    "    new_x = np.linspace(0, width - 1, new_width)\n",
    "    new_y = np.linspace(0, height - 1, new_height)\n",
    "    print(\"Interpolating....\")\n",
    "    new_image = interpn((y, x), image, (new_y[:, None], new_x), method='cubic', bounds_error=False, fill_value=0)\n",
    "    print(\"--------------------\")\n",
    "    return new_image.astype(np.uint8)"
   ],
   "metadata": {
    "collapsed": false,
    "ExecuteTime": {
     "end_time": "2024-03-12T00:26:17.954534400Z",
     "start_time": "2024-03-12T00:26:17.942026700Z"
    }
   },
   "id": "2aaa504c3aadbdd8"
  },
  {
   "cell_type": "code",
   "execution_count": 33,
   "outputs": [
    {
     "name": "stdout",
     "output_type": "stream",
     "text": [
      "Interpolating....\n",
      "--------------------\n"
     ]
    }
   ],
   "source": [
    "interpolated_image_array = bicubic_interpolation(np.array(Lr_image), int(upscaling_factor))"
   ],
   "metadata": {
    "collapsed": false,
    "ExecuteTime": {
     "end_time": "2024-03-12T00:28:16.800289700Z",
     "start_time": "2024-03-12T00:26:17.956534500Z"
    }
   },
   "id": "4b30715c3adcbb97"
  },
  {
   "cell_type": "code",
   "execution_count": 34,
   "outputs": [],
   "source": [
    "from math import log10, sqrt \n",
    "def PSNR(Hr, upscaled): \n",
    "    mse = np.mean((Hr - upscaled) ** 2) \n",
    "    if mse == 0:  # MSE is zero means no noise is present in the signal . \n",
    "                  # Therefore PSNR have no importance. \n",
    "        return 100\n",
    "    max_pixel = 255.0\n",
    "    psnr = 20 * log10(max_pixel / sqrt(mse)) \n",
    "    return psnr "
   ],
   "metadata": {
    "collapsed": false,
    "ExecuteTime": {
     "end_time": "2024-03-12T00:28:16.817289800Z",
     "start_time": "2024-03-12T00:28:16.806290Z"
    }
   },
   "id": "a9a3eae9e695abd6"
  },
  {
   "cell_type": "code",
   "execution_count": 35,
   "outputs": [
    {
     "name": "stdout",
     "output_type": "stream",
     "text": [
      "PSNR:  30.414549254937246\n"
     ]
    }
   ],
   "source": [
    "Hr_image_array = np.array(Hr_image)\n",
    "psnr = PSNR(Hr_image_array, interpolated_image_array)\n",
    "print(\"PSNR: \", psnr)"
   ],
   "metadata": {
    "collapsed": false,
    "ExecuteTime": {
     "end_time": "2024-03-12T00:28:16.845289800Z",
     "start_time": "2024-03-12T00:28:16.812291900Z"
    }
   },
   "id": "951f94eec10c28f3"
  },
  {
   "cell_type": "code",
   "execution_count": 36,
   "outputs": [
    {
     "name": "stdout",
     "output_type": "stream",
     "text": [
      "processing image:  2\n",
      "Interpolating....\n",
      "--------------------\n",
      "processing image:  3\n",
      "Interpolating....\n",
      "--------------------\n",
      "processing image:  4\n",
      "Interpolating....\n",
      "--------------------\n",
      "processing image:  5\n",
      "Interpolating....\n",
      "--------------------\n",
      "processing image:  6\n",
      "Interpolating....\n",
      "--------------------\n",
      "processing image:  7\n",
      "Interpolating....\n",
      "--------------------\n",
      "processing image:  8\n",
      "Interpolating....\n",
      "--------------------\n",
      "processing image:  9\n",
      "Interpolating....\n",
      "--------------------\n",
      "processing image:  10\n",
      "Interpolating....\n",
      "--------------------\n",
      "processing image:  11\n",
      "Interpolating....\n",
      "--------------------\n",
      "processing image:  12\n",
      "Interpolating....\n",
      "--------------------\n",
      "processing image:  13\n",
      "Interpolating....\n",
      "--------------------\n",
      "processing image:  14\n",
      "Interpolating....\n",
      "--------------------\n",
      "processing image:  15\n",
      "Interpolating....\n",
      "--------------------\n",
      "processing image:  16\n",
      "Interpolating....\n",
      "--------------------\n",
      "processing image:  17\n",
      "Interpolating....\n",
      "--------------------\n",
      "processing image:  18\n",
      "Interpolating....\n",
      "--------------------\n",
      "processing image:  19\n",
      "Interpolating....\n",
      "--------------------\n",
      "processing image:  20\n",
      "Interpolating....\n",
      "--------------------\n",
      "processing image:  21\n",
      "Interpolating....\n",
      "--------------------\n",
      "processing image:  22\n",
      "Interpolating....\n",
      "--------------------\n",
      "processing image:  23\n",
      "Interpolating....\n",
      "--------------------\n",
      "processing image:  24\n",
      "Interpolating....\n",
      "--------------------\n",
      "processing image:  25\n",
      "Interpolating....\n",
      "--------------------\n",
      "processing image:  26\n",
      "Interpolating....\n",
      "--------------------\n",
      "processing image:  27\n",
      "Interpolating....\n",
      "--------------------\n",
      "processing image:  28\n",
      "Interpolating....\n",
      "--------------------\n",
      "processing image:  29\n",
      "Interpolating....\n",
      "--------------------\n",
      "processing image:  30\n",
      "Interpolating....\n",
      "--------------------\n",
      "processing image:  31\n",
      "Interpolating....\n",
      "--------------------\n",
      "processing image:  32\n",
      "Interpolating....\n",
      "--------------------\n",
      "processing image:  33\n",
      "Interpolating....\n",
      "--------------------\n",
      "processing image:  34\n",
      "Interpolating....\n",
      "--------------------\n",
      "processing image:  35\n",
      "Interpolating....\n",
      "--------------------\n",
      "processing image:  36\n",
      "Interpolating....\n",
      "--------------------\n",
      "processing image:  37\n",
      "Interpolating....\n",
      "--------------------\n",
      "processing image:  38\n",
      "Interpolating....\n",
      "--------------------\n",
      "processing image:  39\n",
      "Interpolating....\n",
      "--------------------\n",
      "processing image:  40\n",
      "Interpolating....\n",
      "--------------------\n",
      "processing image:  41\n",
      "Interpolating....\n",
      "--------------------\n",
      "processing image:  42\n",
      "Interpolating....\n",
      "--------------------\n",
      "processing image:  43\n",
      "Interpolating....\n",
      "--------------------\n",
      "processing image:  44\n",
      "Interpolating....\n",
      "--------------------\n",
      "processing image:  45\n",
      "Interpolating....\n",
      "--------------------\n",
      "processing image:  46\n",
      "Interpolating....\n",
      "--------------------\n",
      "processing image:  47\n",
      "Interpolating....\n",
      "--------------------\n",
      "processing image:  48\n",
      "Interpolating....\n",
      "--------------------\n",
      "processing image:  49\n",
      "Interpolating....\n",
      "--------------------\n",
      "PSNR:  31.73458053676436\n"
     ]
    }
   ],
   "source": [
    "metrics = [psnr]\n",
    "for image_id in range(2,50):\n",
    "    print(\"processing image: \", image_id)\n",
    "    Hr_image = np.array(cv2.imread(images_path +  camera+\"_\"+ f\"{image_id:03}\" + \"_HR.png\"))\n",
    "    Lr_image = np.array(cv2.imread(images_path + camera+\"_\" + f\"{image_id:03}\" + \"_LR\" + upscaling_factor + \".png\"))\n",
    "    upscaled_array = bicubic_interpolation(np.array(Lr_image), int(upscaling_factor))\n",
    "    Hr_image_array = np.array(Hr_image)\n",
    "    metrics.append(PSNR(Hr_image_array, upscaled_array))\n",
    "    \n",
    "print(\"PSNR: \", np.mean(metrics))"
   ],
   "metadata": {
    "collapsed": false,
    "ExecuteTime": {
     "end_time": "2024-03-12T02:09:47.097962Z",
     "start_time": "2024-03-12T00:28:16.828290Z"
    }
   },
   "id": "c7a51d565a99669e"
  }
 ],
 "metadata": {
  "kernelspec": {
   "display_name": "Python 3",
   "language": "python",
   "name": "python3"
  },
  "language_info": {
   "codemirror_mode": {
    "name": "ipython",
    "version": 2
   },
   "file_extension": ".py",
   "mimetype": "text/x-python",
   "name": "python",
   "nbconvert_exporter": "python",
   "pygments_lexer": "ipython2",
   "version": "2.7.6"
  }
 },
 "nbformat": 4,
 "nbformat_minor": 5
}
