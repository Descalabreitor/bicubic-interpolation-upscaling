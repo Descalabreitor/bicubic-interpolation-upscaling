{
 "cells": [
  {
   "cell_type": "code",
   "execution_count": 69,
   "id": "initial_id",
   "metadata": {
    "collapsed": true,
    "ExecuteTime": {
     "end_time": "2024-03-11T10:31:02.266089500Z",
     "start_time": "2024-03-11T10:31:02.260583600Z"
    }
   },
   "outputs": [],
   "source": [
    "import numpy as np\n",
    "from PIL import Image\n",
    "from scipy.interpolate import interpn\n",
    "\n",
    "data_dir = \"E:\\TFG\\RealSR(V3)\"\n",
    "camera = \"Canon\"\n",
    "upscaling_factor = \"2\"\n",
    "mode = \"train\"\n",
    "\n",
    "images_path = data_dir + \"/\" + camera + \"/\" + mode + \"/\" + upscaling_factor + \"/\" "
   ]
  },
  {
   "cell_type": "code",
   "execution_count": 70,
   "outputs": [],
   "source": [
    "image_id = \"001\"\n",
    "Hr_image =  Image.open(images_path +  camera+\"_\"+ image_id + \"_HR.png\")\n",
    "Lr_image = Image.open(images_path + camera+\"_\" + image_id + \"_LR\" + upscaling_factor + \".png\")"
   ],
   "metadata": {
    "collapsed": false,
    "ExecuteTime": {
     "end_time": "2024-03-11T10:31:02.287259400Z",
     "start_time": "2024-03-11T10:31:02.267089400Z"
    }
   },
   "id": "2cad27fea0138dbb"
  },
  {
   "cell_type": "code",
   "execution_count": 71,
   "outputs": [],
   "source": [
    "import numpy as np\n",
    "from scipy.interpolate import interp2d\n",
    "from PIL import Image\n",
    "\n",
    "def bicubic_interpolation(image):\n",
    "    \"\"\"\n",
    "    Función para realizar la interpolación bicúbica de una imagen.\n",
    "    \"\"\"\n",
    "    height, width = image.shape[:2]\n",
    "    new_height, new_width = 2 * height, 2 * width\n",
    "    interpolated_image = np.zeros((new_height, new_width, image.shape[2]), dtype=np.uint8)\n",
    "\n",
    "    # Iterar sobre cada canal de color\n",
    "    for channel in range(image.shape[2]):\n",
    "        # Definir la función de interpolación bicúbica para el canal de color actual\n",
    "        f = interp2d(np.arange(width), np.arange(height), image[:,:,channel], kind='cubic')\n",
    "\n",
    "        # Interpolar valores para cada canal de color\n",
    "        new_x = np.linspace(0, width - 1, new_width)\n",
    "        new_y = np.linspace(0, height - 1, new_height)\n",
    "        interpolated_image[:,:,channel] = f(new_x, new_y)\n",
    "\n",
    "    return interpolated_image.astype(np.uint8)"
   ],
   "metadata": {
    "collapsed": false,
    "ExecuteTime": {
     "end_time": "2024-03-11T10:31:02.296279300Z",
     "start_time": "2024-03-11T10:31:02.283106100Z"
    }
   },
   "id": "5772ad276fc6c52d"
  },
  {
   "cell_type": "code",
   "execution_count": 72,
   "outputs": [],
   "source": [
    "def bicubic_interpolation(image, factor):\n",
    "    \n",
    "    #Calculo nuevas dimensiones\n",
    "    width, height = image.shape[:2]\n",
    "    new_width, new_height = width * factor, height * factor\n",
    "    new_image = np.zeros((new_height, new_width, image.shape[2]), dtype=np.uint8)\n",
    "    \n",
    "     # Generar cuadrículas para las coordenadas X e Y de la imagen original y la interpolada\n",
    "    x = np.linspace(0, width - 1, width)\n",
    "    y = np.linspace(0, height - 1, height)\n",
    "    new_x = np.linspace(0, width - 1, new_width)\n",
    "    new_y = np.linspace(0, height - 1, new_height) \n",
    "    for channel in range(image.shape[2]):\n",
    "        print(\"Interpolating channel \", channel)\n",
    "        new_image[:,:,channel] = interpn((x, y), image[:,:,channel], (new_x, new_y[:,None]), method='cubic', bounds_error=False, fill_value=0)\n",
    "        \n",
    "    return new_image.astype(np.uint8)"
   ],
   "metadata": {
    "collapsed": false,
    "ExecuteTime": {
     "end_time": "2024-03-11T10:31:02.313292200Z",
     "start_time": "2024-03-11T10:31:02.299280Z"
    }
   },
   "id": "2aaa504c3aadbdd8"
  },
  {
   "cell_type": "code",
   "execution_count": 73,
   "outputs": [
    {
     "name": "stdout",
     "output_type": "stream",
     "text": [
      "(400, 700, 3)\n",
      "Interpolating channel  0\n",
      "Interpolating channel  1\n",
      "Interpolating channel  2\n"
     ]
    }
   ],
   "source": [
    " print(np.array(Lr_image).shape)\n",
    "imagen_interpolada = bicubic_interpolation(np.array(Lr_image), int(upscaling_factor))"
   ],
   "metadata": {
    "collapsed": false,
    "ExecuteTime": {
     "end_time": "2024-03-11T10:35:23.846339900Z",
     "start_time": "2024-03-11T10:31:02.313292200Z"
    }
   },
   "id": "4b30715c3adcbb97"
  },
  {
   "cell_type": "code",
   "execution_count": 74,
   "outputs": [
    {
     "name": "stdout",
     "output_type": "stream",
     "text": [
      "Dimensiones de la imagen original: (400, 700, 3)\n",
      "Dimensiones de la imagen interpolada: (1400, 800, 3)\n"
     ]
    }
   ],
   "source": [
    "# Convertir la imagen interpolada a un objeto de imagen PIL\n",
    "imagen_interpolada_pil = Image.fromarray(imagen_interpolada)\n",
    "\n",
    "# Guardar la imagen interpolada\n",
    "imagen_interpolada_pil.save(\"imagen_interpolada.jpg\")\n",
    "\n",
    "# Mostrar información sobre las imágenes\n",
    "print(\"Dimensiones de la imagen original:\", np.array(Lr_image).shape)\n",
    "print(\"Dimensiones de la imagen interpolada:\", imagen_interpolada.shape)\n",
    "\n",
    "# Mostrar la imagen interpolada\n",
    "imagen_interpolada_pil.show()"
   ],
   "metadata": {
    "collapsed": false,
    "ExecuteTime": {
     "end_time": "2024-03-11T10:35:27.780544400Z",
     "start_time": "2024-03-11T10:35:23.847341600Z"
    }
   },
   "id": "749c98cb3624a551"
  },
  {
   "cell_type": "code",
   "execution_count": 74,
   "outputs": [],
   "source": [],
   "metadata": {
    "collapsed": false,
    "ExecuteTime": {
     "end_time": "2024-03-11T10:35:27.796560100Z",
     "start_time": "2024-03-11T10:35:27.780544400Z"
    }
   },
   "id": "eb584df37eafdb05"
  }
 ],
 "metadata": {
  "kernelspec": {
   "display_name": "Python 3",
   "language": "python",
   "name": "python3"
  },
  "language_info": {
   "codemirror_mode": {
    "name": "ipython",
    "version": 2
   },
   "file_extension": ".py",
   "mimetype": "text/x-python",
   "name": "python",
   "nbconvert_exporter": "python",
   "pygments_lexer": "ipython2",
   "version": "2.7.6"
  }
 },
 "nbformat": 4,
 "nbformat_minor": 5
}
