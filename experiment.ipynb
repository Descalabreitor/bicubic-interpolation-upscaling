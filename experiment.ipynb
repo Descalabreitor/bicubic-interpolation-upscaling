{
 "cells": [
  {
   "cell_type": "code",
   "execution_count": 1,
   "id": "initial_id",
   "metadata": {
    "collapsed": true,
    "ExecuteTime": {
     "end_time": "2024-04-04T10:27:10.433213Z",
     "start_time": "2024-04-04T10:27:07.983075800Z"
    }
   },
   "outputs": [],
   "source": [
    "import os\n",
    "import pandas as pd\n",
    "import numpy as np\n",
    "from scipy.interpolate import interpn\n",
    "from skimage.metrics import structural_similarity as ssim\n",
    "\n",
    "from utils import AirDataManager\n",
    "\n",
    "\n",
    "data_directory = \"E:\\TFG\\core_dataset_sat\\\\air_dataset\"\n",
    "    "
   ]
  },
  {
   "cell_type": "code",
   "execution_count": 2,
   "outputs": [],
   "source": [
    "def bicubic_interpolation(image, objective_dim): # De momento lo implementare para 1 sola foto a la vez\n",
    "    #Calculo nuevas dimensiones\n",
    "    height, width = image.shape[0] , image.shape[1]\n",
    "    new_width, new_height = objective_dim[0], objective_dim[1]\n",
    "    new_image = np.zeros((new_height, new_width, image.shape[2]))\n",
    "    \n",
    "     # Generar cuadrículas para las coordenadas X e Y de la imagen original y la interpolada\n",
    "    x = np.linspace(0, width - 1, width)\n",
    "    y = np.linspace(0, height - 1, height)\n",
    "    new_x = np.linspace(0, width - 1, new_width)\n",
    "    new_y = np.linspace(0, height - 1, new_height)\n",
    "    print(\"Interpolating....\")\n",
    "    new_image = interpn((y, x), image, (new_y[:,None], new_x), method='cubic', bounds_error=False, fill_value=0)\n",
    "    print(\"--------------------\")\n",
    "    return new_image\n",
    "\n",
    "def calculate_psnr(Hr, upscaled): \n",
    "    mse = np.mean((Hr - upscaled) ** 2) \n",
    "    if mse == 0:  # MSE is zero means no noise is present in the signal . \n",
    "                  # Therefore PSNR have no importance. \n",
    "        return 100\n",
    "    max_pixel = 255.0\n",
    "    psnr = 20 * np.log10(max_pixel / np.sqrt(mse)) \n",
    "    return psnr \n",
    "\n",
    "def calculate_ssim(reference_image, comparison_image):\n",
    "    # Ensure images have the same data type\n",
    "    reference_image = reference_image.astype(np.float64)\n",
    "    comparison_image = comparison_image.astype(np.float64)\n",
    "    \n",
    "    # Calculate SSIM\n",
    "    ssim_index, _ = ssim(reference_image, comparison_image, full=True)\n",
    "    \n",
    "    return ssim_index"
   ],
   "metadata": {
    "collapsed": false,
    "ExecuteTime": {
     "end_time": "2024-04-04T10:27:10.440799900Z",
     "start_time": "2024-04-04T10:27:10.436213800Z"
    }
   },
   "id": "f3860ac41325dbcf"
  },
  {
   "cell_type": "code",
   "execution_count": 3,
   "outputs": [],
   "source": [
    "folders = os.listdir(data_directory)\n",
    "folders = folders[:-1]\n",
    "folders = sorted(list(map(int, folders)))\n",
    "hr_datasets = folders[1:]\n",
    "lr_datasets = folders[:-1]"
   ],
   "metadata": {
    "collapsed": false,
    "ExecuteTime": {
     "end_time": "2024-04-04T10:27:10.442309Z",
     "start_time": "2024-04-04T10:27:10.438607200Z"
    }
   },
   "id": "6d15346feb7080bd"
  },
  {
   "cell_type": "code",
   "execution_count": 4,
   "outputs": [
    {
     "name": "stdout",
     "output_type": "stream",
     "text": [
      "64,32\n",
      "Interpolating....\n",
      "--------------------\n"
     ]
    },
    {
     "ename": "ValueError",
     "evalue": "win_size exceeds image extent. Either ensure that your images are at least 7x7; or pass win_size explicitly in the function call, with an odd value less than or equal to the smaller side of your images. If your images are multichannel (with color channels), set channel_axis to the axis number corresponding to the channels.",
     "output_type": "error",
     "traceback": [
      "\u001B[1;31m---------------------------------------------------------------------------\u001B[0m",
      "\u001B[1;31mValueError\u001B[0m                                Traceback (most recent call last)",
      "Cell \u001B[1;32mIn[4], line 15\u001B[0m\n\u001B[0;32m     13\u001B[0m interpolated \u001B[38;5;241m=\u001B[39m bicubic_interpolation(lr_data[index]\u001B[38;5;241m.\u001B[39mnumpy(), (hr,hr))\n\u001B[0;32m     14\u001B[0m psnr \u001B[38;5;241m=\u001B[39m calculate_psnr(hr_data[index]\u001B[38;5;241m.\u001B[39mnumpy(), interpolated)\n\u001B[1;32m---> 15\u001B[0m ssim \u001B[38;5;241m=\u001B[39m calculate_ssim(hr_data[index]\u001B[38;5;241m.\u001B[39mnumpy(), interpolated)\n\u001B[0;32m     16\u001B[0m experiment_results[\u001B[38;5;124m'\u001B[39m\u001B[38;5;124mpsnr\u001B[39m\u001B[38;5;124m'\u001B[39m]\u001B[38;5;241m.\u001B[39mappend(psnr)\n\u001B[0;32m     17\u001B[0m experiment_results[\u001B[38;5;124m'\u001B[39m\u001B[38;5;124mssim\u001B[39m\u001B[38;5;124m'\u001B[39m]\u001B[38;5;241m.\u001B[39mappend(ssim)\n",
      "Cell \u001B[1;32mIn[2], line 32\u001B[0m, in \u001B[0;36mcalculate_ssim\u001B[1;34m(reference_image, comparison_image)\u001B[0m\n\u001B[0;32m     29\u001B[0m comparison_image \u001B[38;5;241m=\u001B[39m comparison_image\u001B[38;5;241m.\u001B[39mastype(np\u001B[38;5;241m.\u001B[39mfloat64)\n\u001B[0;32m     31\u001B[0m \u001B[38;5;66;03m# Calculate SSIM\u001B[39;00m\n\u001B[1;32m---> 32\u001B[0m ssim_index, _ \u001B[38;5;241m=\u001B[39m ssim(reference_image, comparison_image, full\u001B[38;5;241m=\u001B[39m\u001B[38;5;28;01mTrue\u001B[39;00m)\n\u001B[0;32m     34\u001B[0m \u001B[38;5;28;01mreturn\u001B[39;00m ssim_index\n",
      "File \u001B[1;32m~\\miniconda3\\envs\\SatDataExploration\\Lib\\site-packages\\skimage\\metrics\\_structural_similarity.py:178\u001B[0m, in \u001B[0;36mstructural_similarity\u001B[1;34m(im1, im2, win_size, gradient, data_range, channel_axis, gaussian_weights, full, **kwargs)\u001B[0m\n\u001B[0;32m    175\u001B[0m         win_size \u001B[38;5;241m=\u001B[39m \u001B[38;5;241m7\u001B[39m   \u001B[38;5;66;03m# backwards compatibility\u001B[39;00m\n\u001B[0;32m    177\u001B[0m \u001B[38;5;28;01mif\u001B[39;00m np\u001B[38;5;241m.\u001B[39many((np\u001B[38;5;241m.\u001B[39masarray(im1\u001B[38;5;241m.\u001B[39mshape) \u001B[38;5;241m-\u001B[39m win_size) \u001B[38;5;241m<\u001B[39m \u001B[38;5;241m0\u001B[39m):\n\u001B[1;32m--> 178\u001B[0m     \u001B[38;5;28;01mraise\u001B[39;00m \u001B[38;5;167;01mValueError\u001B[39;00m(\n\u001B[0;32m    179\u001B[0m         \u001B[38;5;124m'\u001B[39m\u001B[38;5;124mwin_size exceeds image extent. \u001B[39m\u001B[38;5;124m'\u001B[39m\n\u001B[0;32m    180\u001B[0m         \u001B[38;5;124m'\u001B[39m\u001B[38;5;124mEither ensure that your images are \u001B[39m\u001B[38;5;124m'\u001B[39m\n\u001B[0;32m    181\u001B[0m         \u001B[38;5;124m'\u001B[39m\u001B[38;5;124mat least 7x7; or pass win_size explicitly \u001B[39m\u001B[38;5;124m'\u001B[39m\n\u001B[0;32m    182\u001B[0m         \u001B[38;5;124m'\u001B[39m\u001B[38;5;124min the function call, with an odd value \u001B[39m\u001B[38;5;124m'\u001B[39m\n\u001B[0;32m    183\u001B[0m         \u001B[38;5;124m'\u001B[39m\u001B[38;5;124mless than or equal to the smaller side of your \u001B[39m\u001B[38;5;124m'\u001B[39m\n\u001B[0;32m    184\u001B[0m         \u001B[38;5;124m'\u001B[39m\u001B[38;5;124mimages. If your images are multichannel \u001B[39m\u001B[38;5;124m'\u001B[39m\n\u001B[0;32m    185\u001B[0m         \u001B[38;5;124m'\u001B[39m\u001B[38;5;124m(with color channels), set channel_axis to \u001B[39m\u001B[38;5;124m'\u001B[39m\n\u001B[0;32m    186\u001B[0m         \u001B[38;5;124m'\u001B[39m\u001B[38;5;124mthe axis number corresponding to the channels.\u001B[39m\u001B[38;5;124m'\u001B[39m)\n\u001B[0;32m    188\u001B[0m \u001B[38;5;28;01mif\u001B[39;00m \u001B[38;5;129;01mnot\u001B[39;00m (win_size \u001B[38;5;241m%\u001B[39m \u001B[38;5;241m2\u001B[39m \u001B[38;5;241m==\u001B[39m \u001B[38;5;241m1\u001B[39m):\n\u001B[0;32m    189\u001B[0m     \u001B[38;5;28;01mraise\u001B[39;00m \u001B[38;5;167;01mValueError\u001B[39;00m(\u001B[38;5;124m'\u001B[39m\u001B[38;5;124mWindow size must be odd.\u001B[39m\u001B[38;5;124m'\u001B[39m)\n",
      "\u001B[1;31mValueError\u001B[0m: win_size exceeds image extent. Either ensure that your images are at least 7x7; or pass win_size explicitly in the function call, with an odd value less than or equal to the smaller side of your images. If your images are multichannel (with color channels), set channel_axis to the axis number corresponding to the channels."
     ]
    }
   ],
   "source": [
    "experiments = []\n",
    "sample_size = 500\n",
    "results = {}\n",
    "for hr,lr in zip(hr_datasets, lr_datasets):\n",
    "    experiments.append(str(hr) + \",\" + str(lr))\n",
    "    print(experiments[-1])\n",
    "    \n",
    "    manager = AirDataManager.AirDataManager(data_directory=data_directory, hr_dataset_name=str(hr), lr_dataset_name=str(lr))\n",
    "    hr_data, lr_data = manager.get_random_data(n_samples=sample_size)\n",
    "    experiment_results = {'psnr':[], 'ssim':[]}\n",
    "    \n",
    "    for index in range(sample_size):\n",
    "        interpolated = bicubic_interpolation(lr_data[index].numpy(), (hr,hr))\n",
    "        psnr = calculate_psnr(hr_data[index].numpy(), interpolated)\n",
    "        ssim = calculate_ssim(hr_data[index].numpy(), interpolated)\n",
    "        experiment_results['psnr'].append(psnr)\n",
    "        experiment_results['ssim'].append(ssim)\n",
    "        \n",
    "    results[experiments[-1]] = (np.mean(experiment_results['psnr'], np.mean(experiment_results['ssim'])))\n",
    "    print(results[-1])"
   ],
   "metadata": {
    "collapsed": false,
    "ExecuteTime": {
     "end_time": "2024-04-04T10:27:22.050542300Z",
     "start_time": "2024-04-04T10:27:10.443314900Z"
    }
   },
   "id": "800d245ca6cbf315"
  }
 ],
 "metadata": {
  "kernelspec": {
   "display_name": "Python 3",
   "language": "python",
   "name": "python3"
  },
  "language_info": {
   "codemirror_mode": {
    "name": "ipython",
    "version": 2
   },
   "file_extension": ".py",
   "mimetype": "text/x-python",
   "name": "python",
   "nbconvert_exporter": "python",
   "pygments_lexer": "ipython2",
   "version": "2.7.6"
  }
 },
 "nbformat": 4,
 "nbformat_minor": 5
}
