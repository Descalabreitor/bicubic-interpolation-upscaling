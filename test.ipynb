{
 "cells": [
  {
   "cell_type": "code",
   "execution_count": 1,
   "outputs": [
    {
     "name": "stdout",
     "output_type": "stream",
     "text": [
      "            points_name\n",
      "0     ASMSpotter-28-2-1\n",
      "1      UNHCR-NGAs037523\n",
      "2      Landcover-777479\n",
      "3            UNHCR-3645\n",
      "4      ASMSpotter-3-1-3\n",
      "...                 ...\n",
      "3924   Landcover-145671\n",
      "3925   Landcover-769563\n",
      "3926  Landcover-1736070\n",
      "3927   Landcover-394716\n",
      "3928  Amnesty POI-2-2-1\n",
      "\n",
      "[3929 rows x 1 columns]\n"
     ]
    },
    {
     "ename": "FileNotFoundError",
     "evalue": "[Errno 2] No such file or directory: 'E:\\\\TFG\\\\core_dataset\\\\lr_dataset\\\\UNHCR-IRQs003273\\\\L2A\\\\UNHCR-IRQs003273-3-L2ACLM.tiff'",
     "output_type": "error",
     "traceback": [
      "\u001B[1;31m---------------------------------------------------------------------------\u001B[0m",
      "\u001B[1;31mFileNotFoundError\u001B[0m                         Traceback (most recent call last)",
      "\u001B[1;32m~\\AppData\\Local\\Temp\\ipykernel_7252\\402998379.py\u001B[0m in \u001B[0;36m?\u001B[1;34m()\u001B[0m\n\u001B[0;32m      1\u001B[0m \u001B[1;32mimport\u001B[0m \u001B[0mutils\u001B[0m\u001B[1;33m.\u001B[0m\u001B[0mDataManager\u001B[0m\u001B[1;33m\u001B[0m\u001B[1;33m\u001B[0m\u001B[0m\n\u001B[0;32m      2\u001B[0m \u001B[0mdataManager\u001B[0m \u001B[1;33m=\u001B[0m \u001B[0mutils\u001B[0m\u001B[1;33m.\u001B[0m\u001B[0mDataManager\u001B[0m\u001B[1;33m.\u001B[0m\u001B[0mDataManager\u001B[0m\u001B[1;33m(\u001B[0m\u001B[1;34m\"E:\\TFG\\core_dataset\"\u001B[0m\u001B[1;33m,\u001B[0m \u001B[1;34m\"lr_dataset\"\u001B[0m\u001B[1;33m,\u001B[0m \u001B[1;34m\"hr_dataset/12bit\"\u001B[0m\u001B[1;33m)\u001B[0m\u001B[1;33m\u001B[0m\u001B[1;33m\u001B[0m\u001B[0m\n\u001B[0;32m      3\u001B[0m \u001B[0mprint\u001B[0m\u001B[1;33m(\u001B[0m\u001B[0mdataManager\u001B[0m\u001B[1;33m.\u001B[0m\u001B[0mdata_points\u001B[0m\u001B[1;33m)\u001B[0m\u001B[1;33m\u001B[0m\u001B[1;33m\u001B[0m\u001B[0m\n\u001B[1;32m----> 4\u001B[1;33m \u001B[0mhr\u001B[0m\u001B[1;33m,\u001B[0m \u001B[0mlr\u001B[0m \u001B[1;33m=\u001B[0m \u001B[0mdataManager\u001B[0m\u001B[1;33m.\u001B[0m\u001B[0mget_random_data\u001B[0m\u001B[1;33m(\u001B[0m\u001B[1;36m10\u001B[0m\u001B[1;33m)\u001B[0m\u001B[1;33m\u001B[0m\u001B[1;33m\u001B[0m\u001B[0m\n\u001B[0m",
      "\u001B[1;32m~\\Documents\\GitHub\\bicubic-interpolation-upscaling\\utils\\DataManager.py\u001B[0m in \u001B[0;36m?\u001B[1;34m(self, n_samples)\u001B[0m\n\u001B[0;32m     44\u001B[0m     \u001B[1;32mdef\u001B[0m \u001B[0mget_random_data\u001B[0m\u001B[1;33m(\u001B[0m\u001B[0mself\u001B[0m\u001B[1;33m,\u001B[0m \u001B[0mn_samples\u001B[0m\u001B[1;33m)\u001B[0m\u001B[1;33m:\u001B[0m\u001B[1;33m\u001B[0m\u001B[1;33m\u001B[0m\u001B[0m\n\u001B[0;32m     45\u001B[0m         \u001B[0mdata_names\u001B[0m \u001B[1;33m=\u001B[0m \u001B[0mself\u001B[0m\u001B[1;33m.\u001B[0m\u001B[0mdata_points\u001B[0m\u001B[1;33m[\u001B[0m\u001B[1;34m'points_name'\u001B[0m\u001B[1;33m]\u001B[0m\u001B[1;33m.\u001B[0m\u001B[0msample\u001B[0m\u001B[1;33m(\u001B[0m\u001B[0mn\u001B[0m\u001B[1;33m=\u001B[0m\u001B[0mn_samples\u001B[0m\u001B[1;33m)\u001B[0m\u001B[1;33m\u001B[0m\u001B[1;33m\u001B[0m\u001B[0m\n\u001B[0;32m     46\u001B[0m         \u001B[0mhr_images\u001B[0m \u001B[1;33m=\u001B[0m \u001B[0mself\u001B[0m\u001B[1;33m.\u001B[0m\u001B[0mget_hr_images\u001B[0m\u001B[1;33m(\u001B[0m\u001B[0mdata_names\u001B[0m\u001B[1;33m)\u001B[0m\u001B[1;33m\u001B[0m\u001B[1;33m\u001B[0m\u001B[0m\n\u001B[1;32m---> 47\u001B[1;33m         \u001B[0mlr_images\u001B[0m \u001B[1;33m=\u001B[0m \u001B[0mself\u001B[0m\u001B[1;33m.\u001B[0m\u001B[0mget_lr_images\u001B[0m\u001B[1;33m(\u001B[0m\u001B[0mdata_names\u001B[0m\u001B[1;33m)\u001B[0m\u001B[1;33m\u001B[0m\u001B[1;33m\u001B[0m\u001B[0m\n\u001B[0m\u001B[0;32m     48\u001B[0m         \u001B[1;32mreturn\u001B[0m \u001B[0mhr_images\u001B[0m\u001B[1;33m,\u001B[0m \u001B[0mlr_images\u001B[0m\u001B[1;33m\u001B[0m\u001B[1;33m\u001B[0m\u001B[0m\n",
      "\u001B[1;32m~\\Documents\\GitHub\\bicubic-interpolation-upscaling\\utils\\DataManager.py\u001B[0m in \u001B[0;36m?\u001B[1;34m(self, data_points)\u001B[0m\n\u001B[0;32m     63\u001B[0m             \u001B[0mimage_id\u001B[0m \u001B[1;33m=\u001B[0m \u001B[0mrandom\u001B[0m\u001B[1;33m.\u001B[0m\u001B[0mrandint\u001B[0m\u001B[1;33m(\u001B[0m\u001B[1;36m1\u001B[0m\u001B[1;33m,\u001B[0m \u001B[1;36m8\u001B[0m\u001B[1;33m)\u001B[0m\u001B[1;33m\u001B[0m\u001B[1;33m\u001B[0m\u001B[0m\n\u001B[0;32m     64\u001B[0m             \u001B[0mparts_list\u001B[0m \u001B[1;33m=\u001B[0m \u001B[1;33m[\u001B[0m\u001B[1;33m]\u001B[0m\u001B[1;33m\u001B[0m\u001B[1;33m\u001B[0m\u001B[0m\n\u001B[0;32m     65\u001B[0m             \u001B[1;32mfor\u001B[0m \u001B[0mdata_part_name\u001B[0m \u001B[1;32min\u001B[0m \u001B[0mself\u001B[0m\u001B[1;33m.\u001B[0m\u001B[0mlr_data_part_names\u001B[0m\u001B[1;33m:\u001B[0m\u001B[1;33m\u001B[0m\u001B[1;33m\u001B[0m\u001B[0m\n\u001B[0;32m     66\u001B[0m                 \u001B[0mdirectory\u001B[0m \u001B[1;33m=\u001B[0m \u001B[0mdata_directory\u001B[0m \u001B[1;33m+\u001B[0m \u001B[0mdata_point\u001B[0m \u001B[1;33m+\u001B[0m \u001B[1;34m\"-\"\u001B[0m \u001B[1;33m+\u001B[0m \u001B[0mstr\u001B[0m\u001B[1;33m(\u001B[0m\u001B[0mimage_id\u001B[0m\u001B[1;33m)\u001B[0m \u001B[1;33m+\u001B[0m \u001B[1;34m\"-\"\u001B[0m \u001B[1;33m+\u001B[0m \u001B[0msource\u001B[0m \u001B[1;33m+\u001B[0m \u001B[0mdata_part_name\u001B[0m\u001B[1;33m\u001B[0m\u001B[1;33m\u001B[0m\u001B[0m\n\u001B[1;32m---> 67\u001B[1;33m                 \u001B[0mparts_list\u001B[0m\u001B[1;33m.\u001B[0m\u001B[0mappend\u001B[0m\u001B[1;33m(\u001B[0m\u001B[0mtransforms\u001B[0m\u001B[1;33m.\u001B[0m\u001B[0mToTensor\u001B[0m\u001B[1;33m(\u001B[0m\u001B[1;33m)\u001B[0m\u001B[1;33m(\u001B[0m\u001B[0mtifffile\u001B[0m\u001B[1;33m.\u001B[0m\u001B[0mimread\u001B[0m\u001B[1;33m(\u001B[0m\u001B[0mdirectory\u001B[0m\u001B[1;33m)\u001B[0m\u001B[1;33m)\u001B[0m\u001B[1;33m)\u001B[0m\u001B[1;33m\u001B[0m\u001B[1;33m\u001B[0m\u001B[0m\n\u001B[0m\u001B[0;32m     68\u001B[0m             \u001B[0mimage_tensor\u001B[0m \u001B[1;33m=\u001B[0m \u001B[0mtorch\u001B[0m\u001B[1;33m.\u001B[0m\u001B[0mstack\u001B[0m\u001B[1;33m(\u001B[0m\u001B[0mparts_list\u001B[0m\u001B[1;33m)\u001B[0m\u001B[1;33m\u001B[0m\u001B[1;33m\u001B[0m\u001B[0m\n\u001B[0;32m     69\u001B[0m             \u001B[0mimages_tensor\u001B[0m\u001B[1;33m[\u001B[0m\u001B[0mi\u001B[0m\u001B[1;33m]\u001B[0m \u001B[1;33m=\u001B[0m \u001B[0mimage_tensor\u001B[0m\u001B[1;33m\u001B[0m\u001B[1;33m\u001B[0m\u001B[0m\n\u001B[0;32m     70\u001B[0m         \u001B[1;32mreturn\u001B[0m \u001B[0mimages_tensor\u001B[0m\u001B[1;33m\u001B[0m\u001B[1;33m\u001B[0m\u001B[0m\n",
      "\u001B[1;32m~\\miniconda3\\envs\\bipolar_interpolation\\Lib\\site-packages\\tifffile\\tifffile.py\u001B[0m in \u001B[0;36m?\u001B[1;34m(files, aszarr, key, series, level, squeeze, maxworkers, mode, name, offset, size, pattern, axesorder, categories, imread, sort, container, chunkshape, dtype, axestiled, ioworkers, chunkmode, fillvalue, zattrs, multiscales, omexml, out, out_inplace, _multifile, _useframes, **kwargs)\u001B[0m\n\u001B[0;32m   1036\u001B[0m \u001B[1;33m\u001B[0m\u001B[0m\n\u001B[0;32m   1037\u001B[0m         if isinstance(files, str) or not isinstance(\n\u001B[0;32m   1038\u001B[0m             \u001B[0mfiles\u001B[0m\u001B[1;33m,\u001B[0m \u001B[0mcollections\u001B[0m\u001B[1;33m.\u001B[0m\u001B[0mabc\u001B[0m\u001B[1;33m.\u001B[0m\u001B[0mSequence\u001B[0m\u001B[1;33m\u001B[0m\u001B[1;33m\u001B[0m\u001B[0m\n\u001B[0;32m   1039\u001B[0m         ):\n\u001B[1;32m-> 1040\u001B[1;33m             with TiffFile(\n\u001B[0m\u001B[0;32m   1041\u001B[0m                 \u001B[0mfiles\u001B[0m\u001B[1;33m,\u001B[0m\u001B[1;33m\u001B[0m\u001B[1;33m\u001B[0m\u001B[0m\n\u001B[0;32m   1042\u001B[0m                 \u001B[0mmode\u001B[0m\u001B[1;33m=\u001B[0m\u001B[0mmode\u001B[0m\u001B[1;33m,\u001B[0m\u001B[1;33m\u001B[0m\u001B[1;33m\u001B[0m\u001B[0m\n\u001B[0;32m   1043\u001B[0m                 \u001B[0mname\u001B[0m\u001B[1;33m=\u001B[0m\u001B[0mname\u001B[0m\u001B[1;33m,\u001B[0m\u001B[1;33m\u001B[0m\u001B[1;33m\u001B[0m\u001B[0m\n",
      "\u001B[1;32m~\\miniconda3\\envs\\bipolar_interpolation\\Lib\\site-packages\\tifffile\\tifffile.py\u001B[0m in \u001B[0;36m?\u001B[1;34m(self, file, mode, name, offset, size, omexml, _multifile, _useframes, _parent, **is_flags)\u001B[0m\n\u001B[0;32m   3929\u001B[0m \u001B[1;33m\u001B[0m\u001B[0m\n\u001B[0;32m   3930\u001B[0m         \u001B[1;32mif\u001B[0m \u001B[0mmode\u001B[0m \u001B[1;32mnot\u001B[0m \u001B[1;32min\u001B[0m \u001B[1;33m(\u001B[0m\u001B[1;32mNone\u001B[0m\u001B[1;33m,\u001B[0m \u001B[1;34m'r'\u001B[0m\u001B[1;33m,\u001B[0m \u001B[1;34m'r+'\u001B[0m\u001B[1;33m,\u001B[0m \u001B[1;34m'rb'\u001B[0m\u001B[1;33m,\u001B[0m \u001B[1;34m'r+b'\u001B[0m\u001B[1;33m)\u001B[0m\u001B[1;33m:\u001B[0m\u001B[1;33m\u001B[0m\u001B[1;33m\u001B[0m\u001B[0m\n\u001B[0;32m   3931\u001B[0m             \u001B[1;32mraise\u001B[0m \u001B[0mValueError\u001B[0m\u001B[1;33m(\u001B[0m\u001B[1;34mf'invalid mode {mode!r}'\u001B[0m\u001B[1;33m)\u001B[0m\u001B[1;33m\u001B[0m\u001B[1;33m\u001B[0m\u001B[0m\n\u001B[0;32m   3932\u001B[0m \u001B[1;33m\u001B[0m\u001B[0m\n\u001B[1;32m-> 3933\u001B[1;33m         \u001B[0mfh\u001B[0m \u001B[1;33m=\u001B[0m \u001B[0mFileHandle\u001B[0m\u001B[1;33m(\u001B[0m\u001B[0mfile\u001B[0m\u001B[1;33m,\u001B[0m \u001B[0mmode\u001B[0m\u001B[1;33m=\u001B[0m\u001B[0mmode\u001B[0m\u001B[1;33m,\u001B[0m \u001B[0mname\u001B[0m\u001B[1;33m=\u001B[0m\u001B[0mname\u001B[0m\u001B[1;33m,\u001B[0m \u001B[0moffset\u001B[0m\u001B[1;33m=\u001B[0m\u001B[0moffset\u001B[0m\u001B[1;33m,\u001B[0m \u001B[0msize\u001B[0m\u001B[1;33m=\u001B[0m\u001B[0msize\u001B[0m\u001B[1;33m)\u001B[0m\u001B[1;33m\u001B[0m\u001B[1;33m\u001B[0m\u001B[0m\n\u001B[0m\u001B[0;32m   3934\u001B[0m         \u001B[0mself\u001B[0m\u001B[1;33m.\u001B[0m\u001B[0m_fh\u001B[0m \u001B[1;33m=\u001B[0m \u001B[0mfh\u001B[0m\u001B[1;33m\u001B[0m\u001B[1;33m\u001B[0m\u001B[0m\n\u001B[0;32m   3935\u001B[0m         \u001B[0mself\u001B[0m\u001B[1;33m.\u001B[0m\u001B[0m_multifile\u001B[0m \u001B[1;33m=\u001B[0m \u001B[1;32mTrue\u001B[0m \u001B[1;32mif\u001B[0m \u001B[0m_multifile\u001B[0m \u001B[1;32mis\u001B[0m \u001B[1;32mNone\u001B[0m \u001B[1;32melse\u001B[0m \u001B[0mbool\u001B[0m\u001B[1;33m(\u001B[0m\u001B[0m_multifile\u001B[0m\u001B[1;33m)\u001B[0m\u001B[1;33m\u001B[0m\u001B[1;33m\u001B[0m\u001B[0m\n\u001B[0;32m   3936\u001B[0m         \u001B[0mself\u001B[0m\u001B[1;33m.\u001B[0m\u001B[0m_files\u001B[0m \u001B[1;33m=\u001B[0m \u001B[1;33m{\u001B[0m\u001B[0mfh\u001B[0m\u001B[1;33m.\u001B[0m\u001B[0mname\u001B[0m\u001B[1;33m:\u001B[0m \u001B[0mself\u001B[0m\u001B[1;33m}\u001B[0m\u001B[1;33m\u001B[0m\u001B[1;33m\u001B[0m\u001B[0m\n",
      "\u001B[1;32m~\\miniconda3\\envs\\bipolar_interpolation\\Lib\\site-packages\\tifffile\\tifffile.py\u001B[0m in \u001B[0;36m?\u001B[1;34m(self, file, mode, name, offset, size)\u001B[0m\n\u001B[0;32m  13631\u001B[0m         \u001B[0mself\u001B[0m\u001B[1;33m.\u001B[0m\u001B[0m_offset\u001B[0m \u001B[1;33m=\u001B[0m \u001B[1;33m-\u001B[0m\u001B[1;36m1\u001B[0m \u001B[1;32mif\u001B[0m \u001B[0moffset\u001B[0m \u001B[1;32mis\u001B[0m \u001B[1;32mNone\u001B[0m \u001B[1;32melse\u001B[0m \u001B[0moffset\u001B[0m\u001B[1;33m\u001B[0m\u001B[1;33m\u001B[0m\u001B[0m\n\u001B[0;32m  13632\u001B[0m         \u001B[0mself\u001B[0m\u001B[1;33m.\u001B[0m\u001B[0m_size\u001B[0m \u001B[1;33m=\u001B[0m \u001B[1;33m-\u001B[0m\u001B[1;36m1\u001B[0m \u001B[1;32mif\u001B[0m \u001B[0msize\u001B[0m \u001B[1;32mis\u001B[0m \u001B[1;32mNone\u001B[0m \u001B[1;32melse\u001B[0m \u001B[0msize\u001B[0m\u001B[1;33m\u001B[0m\u001B[1;33m\u001B[0m\u001B[0m\n\u001B[0;32m  13633\u001B[0m         \u001B[0mself\u001B[0m\u001B[1;33m.\u001B[0m\u001B[0m_close\u001B[0m \u001B[1;33m=\u001B[0m \u001B[1;32mTrue\u001B[0m\u001B[1;33m\u001B[0m\u001B[1;33m\u001B[0m\u001B[0m\n\u001B[0;32m  13634\u001B[0m         \u001B[0mself\u001B[0m\u001B[1;33m.\u001B[0m\u001B[0m_lock\u001B[0m \u001B[1;33m=\u001B[0m \u001B[0mNullContext\u001B[0m\u001B[1;33m(\u001B[0m\u001B[1;33m)\u001B[0m\u001B[1;33m\u001B[0m\u001B[1;33m\u001B[0m\u001B[0m\n\u001B[1;32m> 13635\u001B[1;33m         \u001B[0mself\u001B[0m\u001B[1;33m.\u001B[0m\u001B[0mopen\u001B[0m\u001B[1;33m(\u001B[0m\u001B[1;33m)\u001B[0m\u001B[1;33m\u001B[0m\u001B[1;33m\u001B[0m\u001B[0m\n\u001B[0m\u001B[0;32m  13636\u001B[0m         \u001B[1;32massert\u001B[0m \u001B[0mself\u001B[0m\u001B[1;33m.\u001B[0m\u001B[0m_fh\u001B[0m \u001B[1;32mis\u001B[0m \u001B[1;32mnot\u001B[0m \u001B[1;32mNone\u001B[0m\u001B[1;33m\u001B[0m\u001B[1;33m\u001B[0m\u001B[0m\n",
      "\u001B[1;32m~\\miniconda3\\envs\\bipolar_interpolation\\Lib\\site-packages\\tifffile\\tifffile.py\u001B[0m in \u001B[0;36m?\u001B[1;34m(self)\u001B[0m\n\u001B[0;32m  13646\u001B[0m         \u001B[1;32mif\u001B[0m \u001B[0misinstance\u001B[0m\u001B[1;33m(\u001B[0m\u001B[0mself\u001B[0m\u001B[1;33m.\u001B[0m\u001B[0m_file\u001B[0m\u001B[1;33m,\u001B[0m \u001B[0mstr\u001B[0m\u001B[1;33m)\u001B[0m\u001B[1;33m:\u001B[0m\u001B[1;33m\u001B[0m\u001B[1;33m\u001B[0m\u001B[0m\n\u001B[0;32m  13647\u001B[0m             \u001B[1;31m# file name\u001B[0m\u001B[1;33m\u001B[0m\u001B[1;33m\u001B[0m\u001B[0m\n\u001B[0;32m  13648\u001B[0m             \u001B[0mself\u001B[0m\u001B[1;33m.\u001B[0m\u001B[0m_file\u001B[0m \u001B[1;33m=\u001B[0m \u001B[0mos\u001B[0m\u001B[1;33m.\u001B[0m\u001B[0mpath\u001B[0m\u001B[1;33m.\u001B[0m\u001B[0mrealpath\u001B[0m\u001B[1;33m(\u001B[0m\u001B[0mself\u001B[0m\u001B[1;33m.\u001B[0m\u001B[0m_file\u001B[0m\u001B[1;33m)\u001B[0m\u001B[1;33m\u001B[0m\u001B[1;33m\u001B[0m\u001B[0m\n\u001B[0;32m  13649\u001B[0m             \u001B[0mself\u001B[0m\u001B[1;33m.\u001B[0m\u001B[0m_dir\u001B[0m\u001B[1;33m,\u001B[0m \u001B[0mself\u001B[0m\u001B[1;33m.\u001B[0m\u001B[0m_name\u001B[0m \u001B[1;33m=\u001B[0m \u001B[0mos\u001B[0m\u001B[1;33m.\u001B[0m\u001B[0mpath\u001B[0m\u001B[1;33m.\u001B[0m\u001B[0msplit\u001B[0m\u001B[1;33m(\u001B[0m\u001B[0mself\u001B[0m\u001B[1;33m.\u001B[0m\u001B[0m_file\u001B[0m\u001B[1;33m)\u001B[0m\u001B[1;33m\u001B[0m\u001B[1;33m\u001B[0m\u001B[0m\n\u001B[1;32m> 13650\u001B[1;33m             \u001B[0mself\u001B[0m\u001B[1;33m.\u001B[0m\u001B[0m_fh\u001B[0m \u001B[1;33m=\u001B[0m \u001B[0mopen\u001B[0m\u001B[1;33m(\u001B[0m\u001B[0mself\u001B[0m\u001B[1;33m.\u001B[0m\u001B[0m_file\u001B[0m\u001B[1;33m,\u001B[0m \u001B[0mself\u001B[0m\u001B[1;33m.\u001B[0m\u001B[0m_mode\u001B[0m\u001B[1;33m)\u001B[0m  \u001B[1;31m# type: ignore\u001B[0m\u001B[1;33m\u001B[0m\u001B[1;33m\u001B[0m\u001B[0m\n\u001B[0m\u001B[0;32m  13651\u001B[0m             \u001B[0mself\u001B[0m\u001B[1;33m.\u001B[0m\u001B[0m_close\u001B[0m \u001B[1;33m=\u001B[0m \u001B[1;32mTrue\u001B[0m\u001B[1;33m\u001B[0m\u001B[1;33m\u001B[0m\u001B[0m\n\u001B[0;32m  13652\u001B[0m             \u001B[1;32mif\u001B[0m \u001B[0mself\u001B[0m\u001B[1;33m.\u001B[0m\u001B[0m_offset\u001B[0m \u001B[1;33m<\u001B[0m \u001B[1;36m0\u001B[0m\u001B[1;33m:\u001B[0m\u001B[1;33m\u001B[0m\u001B[1;33m\u001B[0m\u001B[0m\n\u001B[0;32m  13653\u001B[0m                 \u001B[0mself\u001B[0m\u001B[1;33m.\u001B[0m\u001B[0m_offset\u001B[0m \u001B[1;33m=\u001B[0m \u001B[1;36m0\u001B[0m\u001B[1;33m\u001B[0m\u001B[1;33m\u001B[0m\u001B[0m\n",
      "\u001B[1;31mFileNotFoundError\u001B[0m: [Errno 2] No such file or directory: 'E:\\\\TFG\\\\core_dataset\\\\lr_dataset\\\\UNHCR-IRQs003273\\\\L2A\\\\UNHCR-IRQs003273-3-L2ACLM.tiff'"
     ]
    }
   ],
   "source": [
    "import utils.DataManager\n",
    "dataManager = utils.DataManager.DataManager(\"E:\\TFG\\core_dataset\", \"lr_dataset\", \"hr_dataset/12bit\")\n",
    "print(dataManager.data_points)\n",
    "hr, lr = dataManager.get_random_data(10)"
   ],
   "metadata": {
    "collapsed": false,
    "ExecuteTime": {
     "end_time": "2024-03-07T17:48:52.954990800Z",
     "start_time": "2024-03-07T17:48:44.684250600Z"
    }
   },
   "id": "313b5e91a8e4e3a5"
  },
  {
   "cell_type": "code",
   "execution_count": 2,
   "outputs": [
    {
     "name": "stdout",
     "output_type": "stream",
     "text": [
      "(159, 157, 12)\n",
      "(158, 158, 12)\n",
      "(159, 157, 12)\n",
      "(159, 158, 12)\n",
      "(160, 156, 12)\n",
      "(156, 160, 12)\n",
      "(158, 159, 12)\n",
      "(159, 158, 12)\n",
      "(159, 157, 12)\n",
      "(157, 159, 12)\n"
     ]
    }
   ],
   "source": [
    "for i in lr:\n",
    "    print(i.shape)"
   ],
   "metadata": {
    "collapsed": false,
    "ExecuteTime": {
     "end_time": "2024-03-04T18:02:20.635921100Z",
     "start_time": "2024-03-04T18:02:20.630505200Z"
    }
   },
   "id": "eb150363d113a3c2"
  },
  {
   "cell_type": "code",
   "execution_count": 33,
   "outputs": [
    {
     "name": "stdout",
     "output_type": "stream",
     "text": [
      "<class 'numpy.ndarray'>\n",
      "[[[0.0822 0.1064 0.1394 ... 0.2203 0.2421 0.2301]\n",
      "  [0.0822 0.0888 0.1188 ... 0.2203 0.2421 0.2301]\n",
      "  [0.0904 0.1048 0.1384 ... 0.229  0.2439 0.2172]\n",
      "  ...\n",
      "  [0.0569 0.0721 0.1282 ... 0.347  0.4256 0.3324]\n",
      "  [0.0569 0.0689 0.122  ... 0.347  0.404  0.3054]\n",
      "  [0.0569 0.0717 0.1262 ... 0.347  0.404  0.3054]]\n",
      "\n",
      " [[0.0822 0.0872 0.1248 ... 0.2203 0.2421 0.2301]\n",
      "  [0.0822 0.0966 0.1288 ... 0.2203 0.2421 0.2301]\n",
      "  [0.0904 0.124  0.145  ... 0.229  0.2439 0.2172]\n",
      "  ...\n",
      "  [0.0569 0.0891 0.152  ... 0.347  0.4274 0.3389]\n",
      "  [0.0569 0.0781 0.1416 ... 0.347  0.411  0.3218]\n",
      "  [0.0569 0.0812 0.1424 ... 0.347  0.411  0.3218]]\n",
      "\n",
      " [[0.0822 0.0888 0.1136 ... 0.2203 0.261  0.2439]\n",
      "  [0.0822 0.0984 0.1306 ... 0.2203 0.261  0.2439]\n",
      "  [0.0904 0.1172 0.1482 ... 0.229  0.2553 0.243 ]\n",
      "  ...\n",
      "  [0.0569 0.0852 0.1454 ... 0.347  0.4274 0.3389]\n",
      "  [0.0569 0.0852 0.1376 ... 0.347  0.411  0.3218]\n",
      "  [0.0569 0.0938 0.1578 ... 0.347  0.411  0.3218]]\n",
      "\n",
      " ...\n",
      "\n",
      " [[0.0563 0.1224 0.1784 ... 0.3189 0.4462 0.3387]\n",
      "  [0.0563 0.1046 0.1576 ... 0.3189 0.4616 0.3572]\n",
      "  [0.0563 0.0981 0.1512 ... 0.3189 0.4616 0.3572]\n",
      "  ...\n",
      "  [0.0558 0.1324 0.178  ... 0.3136 0.3959 0.2923]\n",
      "  [0.0558 0.0801 0.1272 ... 0.3136 0.3959 0.2923]\n",
      "  [0.0558 0.0591 0.0919 ... 0.3136 0.3967 0.2675]]\n",
      "\n",
      " [[0.0658 0.1066 0.1678 ... 0.3534 0.4679 0.3509]\n",
      "  [0.0658 0.1044 0.1604 ... 0.3534 0.4648 0.3477]\n",
      "  [0.0658 0.1018 0.157  ... 0.3534 0.4648 0.3477]\n",
      "  ...\n",
      "  [0.0558 0.062  0.1102 ... 0.3136 0.3959 0.2923]\n",
      "  [0.0558 0.0695 0.1054 ... 0.3136 0.3959 0.2923]\n",
      "  [0.0558 0.0568 0.1    ... 0.3136 0.3967 0.2675]]\n",
      "\n",
      " [[0.0658 0.093  0.1416 ... 0.3534 0.4679 0.3509]\n",
      "  [0.0658 0.0927 0.1498 ... 0.3534 0.4648 0.3477]\n",
      "  [0.0658 0.092  0.1448 ... 0.3534 0.4648 0.3477]\n",
      "  ...\n",
      "  [0.0558 0.0538 0.0989 ... 0.3136 0.3846 0.2633]\n",
      "  [0.0558 0.0708 0.1084 ... 0.3136 0.3846 0.2633]\n",
      "  [0.0558 0.0716 0.12   ... 0.3136 0.3923 0.2616]]]\n"
     ]
    }
   ],
   "source": [
    "import tifffile\n",
    "image = tifffile.imread(\"E:\\TFG\\core_dataset\\lr_dataset\\Amnesty POI-1-1-1\\L2A\\Amnesty POI-1-1-1-2-L2A_data.tiff\")\n",
    "print(type(image))\n",
    "print(image)"
   ],
   "metadata": {
    "collapsed": false,
    "ExecuteTime": {
     "end_time": "2024-03-04T18:34:37.260778900Z",
     "start_time": "2024-03-04T18:34:37.255653900Z"
    }
   },
   "id": "af04d8aaf1d91e25"
  },
  {
   "cell_type": "code",
   "execution_count": 34,
   "outputs": [
    {
     "name": "stdout",
     "output_type": "stream",
     "text": [
      "(157, 159, 3)\n"
     ]
    }
   ],
   "source": [
    "test = image[:,:,6:9]\n",
    "print(test.shape)"
   ],
   "metadata": {
    "collapsed": false,
    "ExecuteTime": {
     "end_time": "2024-03-04T18:34:37.579256800Z",
     "start_time": "2024-03-04T18:34:37.577250700Z"
    }
   },
   "id": "61fbdc8dc9f5fdc0"
  },
  {
   "cell_type": "code",
   "execution_count": 35,
   "outputs": [],
   "source": [
    "tifffile.imsave(\"E:\\\\test.tiff\", test)"
   ],
   "metadata": {
    "collapsed": false,
    "ExecuteTime": {
     "end_time": "2024-03-04T18:34:37.961670600Z",
     "start_time": "2024-03-04T18:34:37.954201900Z"
    }
   },
   "id": "e0d1dac2880b12a6"
  },
  {
   "cell_type": "code",
   "execution_count": 3,
   "outputs": [
    {
     "ename": "ImportError",
     "evalue": "Traceback (most recent call last):\n  File \"C:\\Users\\adria\\miniconda3\\envs\\cuda\\Lib\\site-packages\\osgeo\\__init__.py\", line 30, in swig_import_helper\n    return importlib.import_module(mname)\n           ^^^^^^^^^^^^^^^^^^^^^^^^^^^^^^\n  File \"C:\\Users\\adria\\miniconda3\\envs\\cuda\\Lib\\importlib\\__init__.py\", line 126, in import_module\n    return _bootstrap._gcd_import(name[level:], package, level)\n           ^^^^^^^^^^^^^^^^^^^^^^^^^^^^^^^^^^^^^^^^^^^^^^^^^^^^\n  File \"<frozen importlib._bootstrap>\", line 1204, in _gcd_import\n  File \"<frozen importlib._bootstrap>\", line 1176, in _find_and_load\n  File \"<frozen importlib._bootstrap>\", line 1147, in _find_and_load_unlocked\n  File \"<frozen importlib._bootstrap>\", line 676, in _load_unlocked\n  File \"<frozen importlib._bootstrap>\", line 573, in module_from_spec\n  File \"<frozen importlib._bootstrap_external>\", line 1233, in create_module\n  File \"<frozen importlib._bootstrap>\", line 241, in _call_with_frames_removed\nImportError: DLL load failed while importing _gdal: No se puede encontrar el módulo especificado.\n\nOn Windows, with Python >= 3.8, DLLs are no longer imported from the PATH.\nIf gdalXXX.dll is in the PATH, then set the USE_PATH_FOR_GDAL_PYTHON=YES environment variable\nto feed the PATH into os.add_dll_directory().",
     "output_type": "error",
     "traceback": [
      "\u001B[1;31m---------------------------------------------------------------------------\u001B[0m",
      "\u001B[1;31mImportError\u001B[0m                               Traceback (most recent call last)",
      "File \u001B[1;32m~\\miniconda3\\envs\\cuda\\Lib\\site-packages\\osgeo\\__init__.py:30\u001B[0m, in \u001B[0;36mswig_import_helper\u001B[1;34m()\u001B[0m\n\u001B[0;32m     29\u001B[0m \u001B[38;5;28;01mtry\u001B[39;00m:\n\u001B[1;32m---> 30\u001B[0m     \u001B[38;5;28;01mreturn\u001B[39;00m importlib\u001B[38;5;241m.\u001B[39mimport_module(mname)\n\u001B[0;32m     31\u001B[0m \u001B[38;5;28;01mexcept\u001B[39;00m \u001B[38;5;167;01mImportError\u001B[39;00m:\n",
      "File \u001B[1;32m~\\miniconda3\\envs\\cuda\\Lib\\importlib\\__init__.py:126\u001B[0m, in \u001B[0;36mimport_module\u001B[1;34m(name, package)\u001B[0m\n\u001B[0;32m    125\u001B[0m         level \u001B[38;5;241m+\u001B[39m\u001B[38;5;241m=\u001B[39m \u001B[38;5;241m1\u001B[39m\n\u001B[1;32m--> 126\u001B[0m \u001B[38;5;28;01mreturn\u001B[39;00m _bootstrap\u001B[38;5;241m.\u001B[39m_gcd_import(name[level:], package, level)\n",
      "File \u001B[1;32m<frozen importlib._bootstrap>:1204\u001B[0m, in \u001B[0;36m_gcd_import\u001B[1;34m(name, package, level)\u001B[0m\n",
      "File \u001B[1;32m<frozen importlib._bootstrap>:1176\u001B[0m, in \u001B[0;36m_find_and_load\u001B[1;34m(name, import_)\u001B[0m\n",
      "File \u001B[1;32m<frozen importlib._bootstrap>:1147\u001B[0m, in \u001B[0;36m_find_and_load_unlocked\u001B[1;34m(name, import_)\u001B[0m\n",
      "File \u001B[1;32m<frozen importlib._bootstrap>:676\u001B[0m, in \u001B[0;36m_load_unlocked\u001B[1;34m(spec)\u001B[0m\n",
      "File \u001B[1;32m<frozen importlib._bootstrap>:573\u001B[0m, in \u001B[0;36mmodule_from_spec\u001B[1;34m(spec)\u001B[0m\n",
      "File \u001B[1;32m<frozen importlib._bootstrap_external>:1233\u001B[0m, in \u001B[0;36mcreate_module\u001B[1;34m(self, spec)\u001B[0m\n",
      "File \u001B[1;32m<frozen importlib._bootstrap>:241\u001B[0m, in \u001B[0;36m_call_with_frames_removed\u001B[1;34m(f, *args, **kwds)\u001B[0m\n",
      "\u001B[1;31mImportError\u001B[0m: DLL load failed while importing _gdal: No se puede encontrar el módulo especificado.",
      "\nDuring handling of the above exception, another exception occurred:\n",
      "\u001B[1;31mImportError\u001B[0m                               Traceback (most recent call last)",
      "Cell \u001B[1;32mIn[3], line 2\u001B[0m\n\u001B[0;32m      1\u001B[0m \u001B[38;5;66;03m#Otra forma de leer bien los datos satelitales\u001B[39;00m\n\u001B[1;32m----> 2\u001B[0m \u001B[38;5;28;01mimport\u001B[39;00m \u001B[38;5;21;01mosgeo\u001B[39;00m\u001B[38;5;21;01m.\u001B[39;00m\u001B[38;5;21;01mgdal\u001B[39;00m \u001B[38;5;28;01mas\u001B[39;00m \u001B[38;5;21;01mgdal\u001B[39;00m\n\u001B[0;32m      3\u001B[0m \u001B[38;5;28;01mimport\u001B[39;00m \u001B[38;5;21;01mnumpy\u001B[39;00m \u001B[38;5;28;01mas\u001B[39;00m \u001B[38;5;21;01mnp\u001B[39;00m\n\u001B[0;32m      4\u001B[0m \u001B[38;5;28;01mimport\u001B[39;00m \u001B[38;5;21;01mmatplotlib\u001B[39;00m\u001B[38;5;21;01m.\u001B[39;00m\u001B[38;5;21;01mpyplot\u001B[39;00m \u001B[38;5;28;01mas\u001B[39;00m \u001B[38;5;21;01mplt\u001B[39;00m\n",
      "File \u001B[1;32m~\\miniconda3\\envs\\cuda\\Lib\\site-packages\\osgeo\\__init__.py:46\u001B[0m\n\u001B[0;32m     42\u001B[0m                 \u001B[38;5;28;01mraise\u001B[39;00m \u001B[38;5;167;01mImportError\u001B[39;00m(traceback_string \u001B[38;5;241m+\u001B[39m \u001B[38;5;124m'\u001B[39m\u001B[38;5;130;01m\\n\u001B[39;00m\u001B[38;5;124m'\u001B[39m \u001B[38;5;241m+\u001B[39m msg)\n\u001B[0;32m     43\u001B[0m         \u001B[38;5;28;01mreturn\u001B[39;00m importlib\u001B[38;5;241m.\u001B[39mimport_module(\u001B[38;5;124m'\u001B[39m\u001B[38;5;124m_gdal\u001B[39m\u001B[38;5;124m'\u001B[39m)\n\u001B[1;32m---> 46\u001B[0m _gdal \u001B[38;5;241m=\u001B[39m swig_import_helper()\n\u001B[0;32m     47\u001B[0m \u001B[38;5;28;01mdel\u001B[39;00m swig_import_helper\n\u001B[0;32m     49\u001B[0m __version__ \u001B[38;5;241m=\u001B[39m _gdal\u001B[38;5;241m.\u001B[39m__version__ \u001B[38;5;241m=\u001B[39m _gdal\u001B[38;5;241m.\u001B[39mVersionInfo(\u001B[38;5;124m\"\u001B[39m\u001B[38;5;124mRELEASE_NAME\u001B[39m\u001B[38;5;124m\"\u001B[39m)\n",
      "File \u001B[1;32m~\\miniconda3\\envs\\cuda\\Lib\\site-packages\\osgeo\\__init__.py:42\u001B[0m, in \u001B[0;36mswig_import_helper\u001B[1;34m()\u001B[0m\n\u001B[0;32m     40\u001B[0m         \u001B[38;5;28;01mimport\u001B[39;00m \u001B[38;5;21;01mtraceback\u001B[39;00m\n\u001B[0;32m     41\u001B[0m         traceback_string \u001B[38;5;241m=\u001B[39m \u001B[38;5;124m'\u001B[39m\u001B[38;5;124m'\u001B[39m\u001B[38;5;241m.\u001B[39mjoin(traceback\u001B[38;5;241m.\u001B[39mformat_exception(\u001B[38;5;241m*\u001B[39msys\u001B[38;5;241m.\u001B[39mexc_info()))\n\u001B[1;32m---> 42\u001B[0m         \u001B[38;5;28;01mraise\u001B[39;00m \u001B[38;5;167;01mImportError\u001B[39;00m(traceback_string \u001B[38;5;241m+\u001B[39m \u001B[38;5;124m'\u001B[39m\u001B[38;5;130;01m\\n\u001B[39;00m\u001B[38;5;124m'\u001B[39m \u001B[38;5;241m+\u001B[39m msg)\n\u001B[0;32m     43\u001B[0m \u001B[38;5;28;01mreturn\u001B[39;00m importlib\u001B[38;5;241m.\u001B[39mimport_module(\u001B[38;5;124m'\u001B[39m\u001B[38;5;124m_gdal\u001B[39m\u001B[38;5;124m'\u001B[39m)\n",
      "\u001B[1;31mImportError\u001B[0m: Traceback (most recent call last):\n  File \"C:\\Users\\adria\\miniconda3\\envs\\cuda\\Lib\\site-packages\\osgeo\\__init__.py\", line 30, in swig_import_helper\n    return importlib.import_module(mname)\n           ^^^^^^^^^^^^^^^^^^^^^^^^^^^^^^\n  File \"C:\\Users\\adria\\miniconda3\\envs\\cuda\\Lib\\importlib\\__init__.py\", line 126, in import_module\n    return _bootstrap._gcd_import(name[level:], package, level)\n           ^^^^^^^^^^^^^^^^^^^^^^^^^^^^^^^^^^^^^^^^^^^^^^^^^^^^\n  File \"<frozen importlib._bootstrap>\", line 1204, in _gcd_import\n  File \"<frozen importlib._bootstrap>\", line 1176, in _find_and_load\n  File \"<frozen importlib._bootstrap>\", line 1147, in _find_and_load_unlocked\n  File \"<frozen importlib._bootstrap>\", line 676, in _load_unlocked\n  File \"<frozen importlib._bootstrap>\", line 573, in module_from_spec\n  File \"<frozen importlib._bootstrap_external>\", line 1233, in create_module\n  File \"<frozen importlib._bootstrap>\", line 241, in _call_with_frames_removed\nImportError: DLL load failed while importing _gdal: No se puede encontrar el módulo especificado.\n\nOn Windows, with Python >= 3.8, DLLs are no longer imported from the PATH.\nIf gdalXXX.dll is in the PATH, then set the USE_PATH_FOR_GDAL_PYTHON=YES environment variable\nto feed the PATH into os.add_dll_directory()."
     ]
    }
   ],
   "source": [
    "#Otra forma de leer bien los datos satelitales\n",
    "import osgeo.gdal as gdal\n",
    "import numpy as np\n",
    "import matplotlib.pyplot as plt\n",
    "\n",
    "directory = \"E:\\TFG\\core_dataset\\lr_dataset\\Amnesty POI-1-1-1\\L2A\\Amnesty POI-1-1-1-2-\"\n",
    "\n",
    "# Lista de nombres de archivos de entrada\n",
    "file_names = [\n",
    "    directory + \"CLM.tiff\",\n",
    "    directory + \"CLP.tiff\",\n",
    "    directory + \"L2A_data.tiff\",\n",
    "    directory + \"dataMask.tiff\",\n",
    "    directory + \"sunAzimuthAngles.tiff\",\n",
    "    directory + \"sunZenithAngles.tiff\",\n",
    "    directory + \"viewAzimuthMean.tiff\",\n",
    "    directory + \"viewZenithMean.tiff\"\n",
    "]\n",
    "\n",
    "# Crear una lista para almacenar los datos de cada archivo\n",
    "data_list = []\n",
    "\n",
    "# Leer los datos de cada archivo TIFF y almacenarlos en la lista\n",
    "for file_name in file_names:\n",
    "    dataset = gdal.Open(file_name)\n",
    "    if dataset is None:\n",
    "        print(f\"No se pudo abrir el archivo {file_name}\")\n",
    "    else:\n",
    "        data = dataset.ReadAsArray()\n",
    "        data_list.append(data)\n",
    "\n",
    "# Combinar los datos en una imagen\n",
    "combined_image = np.stack(data_list, axis=-1)\n",
    "\n",
    "# Normalizar los valores para la visualización\n",
    "combined_image = combined_image.astype(np.float32)\n",
    "combined_image -= combined_image.min()\n",
    "combined_image /= combined_image.max()\n",
    "\n",
    "# Mostrar la imagen combinada\n",
    "plt.imshow(combined_image)\n",
    "plt.axis('off')\n",
    "plt.show()"
   ],
   "metadata": {
    "collapsed": false,
    "ExecuteTime": {
     "end_time": "2024-03-05T18:24:55.138943800Z",
     "start_time": "2024-03-05T18:24:55.088926900Z"
    }
   },
   "id": "3bc165c1e62d6d04"
  },
  {
   "cell_type": "code",
   "execution_count": null,
   "outputs": [],
   "source": [],
   "metadata": {
    "collapsed": false
   },
   "id": "b86dfdc892af4008"
  }
 ],
 "metadata": {
  "kernelspec": {
   "display_name": "Python 3",
   "language": "python",
   "name": "python3"
  },
  "language_info": {
   "codemirror_mode": {
    "name": "ipython",
    "version": 2
   },
   "file_extension": ".py",
   "mimetype": "text/x-python",
   "name": "python",
   "nbconvert_exporter": "python",
   "pygments_lexer": "ipython2",
   "version": "2.7.6"
  }
 },
 "nbformat": 4,
 "nbformat_minor": 5
}
